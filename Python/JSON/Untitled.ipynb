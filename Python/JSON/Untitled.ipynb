{
 "cells": [
  {
   "cell_type": "code",
   "execution_count": 1,
   "metadata": {
    "collapsed": true
   },
   "outputs": [],
   "source": [
    "def parse_file(filename):\n",
    "    with open(filename, 'r') as f:\n",
    "        z=f.readlines()\n",
    "        \n",
    "        #print \"f.readlines(): \\n\" + str(z)\n",
    "        \n",
    "        arr = np.array([elem[:-1].split(',') for elem in z])\n",
    "        \n",
    "        #print \"\\narr: \\n\"\n",
    "        #print arr\n",
    "\n",
    "        d = {}\n",
    "        try:\n",
    "            voc_list = arr[:,6].astype(float)\n",
    "        except:\n",
    "            arr = np.array([elem[:-1].split(',') for elem in z[:-1]])\n",
    "            voc_list = arr[:,6].astype(float)\n",
    "        low_thresh = 124\n",
    "        high_thresh = 1e6\n",
    "                \n",
    "        d[\"voc\"] = voc_list[(voc_list>low_thresh) & (voc_list<high_thresh)]\n",
    "        \n",
    "        #print \"\\nvoc_list length: \" + str(len(voc_list))\n",
    "        #print voc_list\n",
    "        \n",
    "        #print \"\\nd[voc] length: \" + str(len(d[\"voc\"]))\n",
    "        #print d[\"voc\"]\n",
    "        \n",
    "        d[\"tem\"] = arr[:,0].astype(float)[(voc_list>low_thresh) & (voc_list<high_thresh)]\n",
    "        d[\"hum\"] = arr[:,1].astype(float)[(voc_list>low_thresh) & (voc_list<high_thresh)]\n",
    "        d[\"co2\"] = arr[:,2].astype(float)[(voc_list>low_thresh) & (voc_list<high_thresh)]\n",
    "        d[\"dewpt\"] = arr[:,3].astype(float)[(voc_list>low_thresh) & (voc_list<high_thresh)]\n",
    "        \n",
    "        d[\"pm\"] = arr[:,4].astype(float)[(voc_list>low_thresh) & (voc_list<high_thresh)]\n",
    "        d[\"pm\"] = d[\"pm\"]*0.103 - 0.698 #in ug/m3\n",
    "        \n",
    "        ts = arr[:,5][(voc_list>low_thresh) & (voc_list<high_thresh)]\n",
    "        ts_mod = [time.strptime(tt, \"%Y-%m-%dT%H:%M:%S.000Z\") for tt in ts]\n",
    "        d[\"upd_ts\"] = [np.uint32(time.mktime(x)) for x in ts_mod]\n",
    "        d[\"tod\"] = np.array([x.tm_hour*60 + x.tm_min for x in ts_mod])#tod= time_of_day\n",
    "        d[\"dow\"] = np.array([x.tm_wday for x in ts_mod])               #day_of_week\n",
    "        d[\"time_date\"] = np.array([dt.utcfromtimestamp(tim).strftime(\"%Y-%m-%d\") for tim in d[\"upd_ts\"]])\n",
    "        \n",
    "        #print \"\\nd[tem] length: \" + str(len(d[\"tem\"]))\n",
    "        #print d[\"tem\"]\n",
    "        \n",
    "        #return tem, hum, co2, dewpt, pm, upd_ts, tod, dow, voc\n",
    "        return d"
   ]
  },
  {
   "cell_type": "code",
   "execution_count": 2,
   "metadata": {},
   "outputs": [
    {
     "ename": "NameError",
     "evalue": "name 'txt_list' is not defined",
     "output_type": "error",
     "traceback": [
      "\u001b[1;31m---------------------------------------------------------------------------\u001b[0m",
      "\u001b[1;31mNameError\u001b[0m                                 Traceback (most recent call last)",
      "\u001b[1;32m<ipython-input-2-26b854151a03>\u001b[0m in \u001b[0;36m<module>\u001b[1;34m()\u001b[0m\n\u001b[1;32m----> 1\u001b[1;33m \u001b[0md\u001b[0m \u001b[1;33m=\u001b[0m \u001b[0mparse_file\u001b[0m\u001b[1;33m(\u001b[0m\u001b[1;34m\"./DATA_DIR/\"\u001b[0m\u001b[1;33m+\u001b[0m\u001b[0mtxt_list\u001b[0m\u001b[1;33m[\u001b[0m\u001b[1;36m11\u001b[0m\u001b[1;33m]\u001b[0m\u001b[1;33m)\u001b[0m\u001b[1;33m\u001b[0m\u001b[0m\n\u001b[0m\u001b[0;32m      2\u001b[0m \u001b[0mprint\u001b[0m \u001b[1;33m(\u001b[0m\u001b[0md\u001b[0m\u001b[1;33m[\u001b[0m\u001b[1;34m'tem'\u001b[0m\u001b[1;33m]\u001b[0m\u001b[1;33m)\u001b[0m\u001b[1;33m\u001b[0m\u001b[0m\n",
      "\u001b[1;31mNameError\u001b[0m: name 'txt_list' is not defined"
     ]
    }
   ],
   "source": [
    "d = parse_file(\"./DATA_DIR/\"+txt_list[11])\n",
    "print (d['tem'])"
   ]
  },
  {
   "cell_type": "code",
   "execution_count": 6,
   "metadata": {},
   "outputs": [],
   "source": [
    "def cor_mat_print(d):\n",
    "    x = np.sort(d.keys())\n",
    "    \n",
    "    #print(d[x[0]])\n",
    "    #print(d[x[2]])\n",
    "    print (x)\n",
    "    \n",
    "    l = len(x)\n",
    "    cor_mat = np.zeros((l,l))\n",
    "    #print cor_mat\n",
    "    for i in range(0,l):\n",
    "        for j in range(0,l):\n",
    "            np.set_printoptions(suppress=True, precision=4)\n",
    "            #decimal.getcontext().prec=5\n",
    "            feat1 = d[x[i]]\n",
    "            feat2 = d[x[j]]\n",
    "            try:\n",
    "                cor_mat[i][j] = pearsonr(feat1, feat2)[0]\n",
    "            #print pearsonr(feat1, feat2)[0]\n",
    "            except:\n",
    "                cor_mat[i][j] = np.nan\n",
    "    #print x\n",
    "    #print cor_mat#.astype(np.uint32)#*1.0/np.sum(cor_mat.astype(np.float32))\n",
    "    return cor_mat, x\n"
   ]
  },
  {
   "cell_type": "code",
   "execution_count": 7,
   "metadata": {},
   "outputs": [
    {
     "ename": "NameError",
     "evalue": "name 'txt_list' is not defined",
     "output_type": "error",
     "traceback": [
      "\u001b[1;31m---------------------------------------------------------------------------\u001b[0m",
      "\u001b[1;31mNameError\u001b[0m                                 Traceback (most recent call last)",
      "\u001b[1;32m<ipython-input-7-a1aa682300eb>\u001b[0m in \u001b[0;36m<module>\u001b[1;34m()\u001b[0m\n\u001b[1;32m----> 1\u001b[1;33m \u001b[0md\u001b[0m \u001b[1;33m=\u001b[0m \u001b[0mparse_file\u001b[0m\u001b[1;33m(\u001b[0m\u001b[1;34m\"./DATA_DIR/\"\u001b[0m\u001b[1;33m+\u001b[0m\u001b[0mtxt_list\u001b[0m\u001b[1;33m[\u001b[0m\u001b[1;36m5\u001b[0m\u001b[1;33m]\u001b[0m\u001b[1;33m)\u001b[0m\u001b[1;33m\u001b[0m\u001b[0m\n\u001b[0m\u001b[0;32m      2\u001b[0m \u001b[1;31m#print d\u001b[0m\u001b[1;33m\u001b[0m\u001b[1;33m\u001b[0m\u001b[0m\n\u001b[0;32m      3\u001b[0m \u001b[0mcor_mat_print\u001b[0m\u001b[1;33m(\u001b[0m\u001b[0md\u001b[0m\u001b[1;33m)\u001b[0m\u001b[1;33m\u001b[0m\u001b[0m\n",
      "\u001b[1;31mNameError\u001b[0m: name 'txt_list' is not defined"
     ]
    }
   ],
   "source": [
    "d = parse_file(\"./DATA_DIR/\"+txt_list[5])\n",
    "#print d\n",
    "cor_mat_print(d)\n"
   ]
  },
  {
   "cell_type": "code",
   "execution_count": null,
   "metadata": {
    "collapsed": true
   },
   "outputs": [],
   "source": []
  }
 ],
 "metadata": {
  "kernelspec": {
   "display_name": "Python 3",
   "language": "python",
   "name": "python3"
  },
  "language_info": {
   "codemirror_mode": {
    "name": "ipython",
    "version": 3
   },
   "file_extension": ".py",
   "mimetype": "text/x-python",
   "name": "python",
   "nbconvert_exporter": "python",
   "pygments_lexer": "ipython3",
   "version": "3.6.3"
  }
 },
 "nbformat": 4,
 "nbformat_minor": 2
}
